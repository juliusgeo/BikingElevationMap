{
 "cells": [
  {
   "cell_type": "code",
   "execution_count": 184,
   "metadata": {
    "scrolled": true
   },
   "outputs": [],
   "source": [
    "import geopandas as gpd\n",
    "import requests\n",
    "import time\n",
    "import shapely\n",
    "import geopandas_osm.osm\n",
    "import numpy as np\n",
    "import descartes\n",
    "import math\n",
    "%matplotlib inline"
   ]
  },
  {
   "cell_type": "code",
   "execution_count": null,
   "metadata": {
    "collapsed": true
   },
   "outputs": [],
   "source": []
  },
  {
   "cell_type": "code",
   "execution_count": null,
   "metadata": {
    "collapsed": true
   },
   "outputs": [],
   "source": []
  },
  {
   "cell_type": "code",
   "execution_count": 185,
   "metadata": {},
   "outputs": [],
   "source": [
    "leftbound = -75.5898\n",
    "rightbound = -75.5740\n",
    "upperbound = 40.1391\n",
    "lowerbound = 40.1134\n",
    "bbox = [(leftbound,lowerbound ), (rightbound,lowerbound), (rightbound,upperbound), (leftbound,upperbound)]\n",
    "df = geopandas_osm.osm.query_osm('way', Polygon(bbox), recurse='down')\n"
   ]
  },
  {
   "cell_type": "code",
   "execution_count": 186,
   "metadata": {},
   "outputs": [
    {
     "data": {
      "text/plain": [
       "2     LINESTRING (-75.582399 40.128127, -75.581869 4...\n",
       "3     LINESTRING (-75.588481 40.140452, -75.588418 4...\n",
       "4     LINESTRING (-75.58474200000001 40.12023, -75.5...\n",
       "5     LINESTRING (-75.58092000000001 40.130136, -75....\n",
       "6     LINESTRING (-75.585381 40.132703, -75.585033 4...\n",
       "7     LINESTRING (-75.589359 40.117143, -75.58929500...\n",
       "8     LINESTRING (-75.5783229 40.1306533, -75.578250...\n",
       "9     LINESTRING (-75.58195499999999 40.133631, -75....\n",
       "10    LINESTRING (-75.578626 40.134604, -75.57861200...\n",
       "12    LINESTRING (-75.583094 40.112462, -75.58320500...\n",
       "13    LINESTRING (-75.58058800000001 40.123706, -75....\n",
       "14    LINESTRING (-75.580197 40.128909, -75.581074 4...\n",
       "15    LINESTRING (-75.580426 40.124818, -75.58059 40...\n",
       "17    LINESTRING (-75.58511799999999 40.130374, -75....\n",
       "18    LINESTRING (-75.579583 40.113681, -75.57960199...\n",
       "19    LINESTRING (-75.58516299999999 40.129724, -75....\n",
       "20    LINESTRING (-75.572425 40.136861, -75.573086 4...\n",
       "21    LINESTRING (-75.58092000000001 40.130136, -75....\n",
       "22    LINESTRING (-75.583465 40.131372, -75.583562 4...\n",
       "23    LINESTRING (-75.59822699999999 40.116466, -75....\n",
       "24    LINESTRING (-75.5783229 40.1306533, -75.578206...\n",
       "25    LINESTRING (-75.574237 40.107152, -75.57401900...\n",
       "26    LINESTRING (-75.588138 40.116573, -75.587881 4...\n",
       "27    LINESTRING (-75.587677 40.116204, -75.587462 4...\n",
       "28    LINESTRING (-75.577963 40.128564, -75.578132 4...\n",
       "29    LINESTRING (-75.602197 40.119873, -75.6022 40....\n",
       "30    LINESTRING (-75.584655 40.13024, -75.584373 40...\n",
       "31    LINESTRING (-75.57911900000001 40.126812, -75....\n",
       "32    LINESTRING (-75.59130999999999 40.134911, -75....\n",
       "33    LINESTRING (-75.57587460000001 40.1300514, -75...\n",
       "34    LINESTRING (-75.582409 40.131926, -75.58263100...\n",
       "35    LINESTRING (-75.582409 40.131926, -75.58162799...\n",
       "36    LINESTRING (-75.5642831 40.1313485, -75.564429...\n",
       "38    LINESTRING (-75.6017287 40.1080335, -75.601530...\n",
       "55    LINESTRING (-75.5748993 40.1250082, -75.574505...\n",
       "56    LINESTRING (-75.574505 40.1241432, -75.5744289...\n",
       "57    LINESTRING (-75.5745124 40.1237562, -75.574677...\n",
       "58    LINESTRING (-75.5745124 40.1237562, -75.574461...\n",
       "66    LINESTRING (-75.574505 40.1241432, -75.5746271...\n",
       "Name: geometry, dtype: object"
      ]
     },
     "execution_count": 186,
     "metadata": {},
     "output_type": "execute_result"
    }
   ],
   "source": [
    "arr=[\"highway\",\"residential\", \"primary\", \"secondary\",\"tertiary\",\"unclassified\", \"cycleway\"]\n",
    "df=df[df.highway.isin(arr)]\n",
    "df[\"geometry\"]\n"
   ]
  },
  {
   "cell_type": "code",
   "execution_count": null,
   "metadata": {
    "collapsed": true
   },
   "outputs": [],
   "source": []
  },
  {
   "cell_type": "code",
   "execution_count": 187,
   "metadata": {
    "collapsed": true
   },
   "outputs": [],
   "source": [
    "newdata = gpd.GeoDataFrame()\n",
    "newdata[\"street name\"]=None\n",
    "newdata[\"geometry\"]=None\n",
    "streetnewdata = gpd.GeoDataFrame()\n",
    "streetnewdata[\"street name\"]=None\n",
    "streetnewdata[\"geometry\"]=None"
   ]
  },
  {
   "cell_type": "code",
   "execution_count": 188,
   "metadata": {},
   "outputs": [
    {
     "name": "stdout",
     "output_type": "stream",
     "text": [
      "{}\n"
     ]
    }
   ],
   "source": [
    "elevations = dict()\n",
    "print(elevations)"
   ]
  },
  {
   "cell_type": "code",
   "execution_count": 189,
   "metadata": {
    "collapsed": true
   },
   "outputs": [],
   "source": [
    "all_coords_list = []\n",
    "for geometry in df[\"geometry\"]:\n",
    "    for coord in geometry.coords:\n",
    "        all_coords_list.append(coord)"
   ]
  },
  {
   "cell_type": "code",
   "execution_count": 244,
   "metadata": {},
   "outputs": [],
   "source": [
    "def is_intersection(val):\n",
    "    num_matches = 0\n",
    "    for i in all_coords_list:\n",
    "        if val == i:\n",
    "            num_matches +=1\n",
    "    \n",
    "    if(num_matches > 1):\n",
    "        return True\n",
    "    else:\n",
    "        return False\n",
    "\n",
    "def get_elev_diff(point1, point2):\n",
    "        return get_elev(point1)-get_elev(point2)\n",
    "def get_elev(point):\n",
    "    if(point in elevations):\n",
    "        return elevations[point]\n",
    "    else:\n",
    "        rqstring = \"https://maps.googleapis.com/maps/api/elevation/json?locations=\"+str(point[0])+\",\"+str(point[1])\n",
    "        elevation=requests.get(rqstring)\n",
    "        elev = elevation.json()[\"results\"][0][\"elevation\"]\n",
    "        elevations[point] = elev\n",
    "        time.sleep(.1)\n",
    "        return elev\n",
    "def distance(point1, point2):\n",
    "    return math.hypot(point2[0]-point1[0], point2[1]-point1[1])\n",
    "def dot(a, b):\n",
    "    return a[0]*b[0]+a[1]+b[1]\n",
    "def get_vector(point, origin):\n",
    "    return (point[0]-origin[0], point[1]-origin[1])\n",
    "def get_anchor_point(point1, point2, elev_diff):\n",
    "    if(elev_diff == 0):\n",
    "        return False\n",
    "    theta = math.atan(elev_diff/float(distance(point1, point2)))\n",
    "    vertical_offset = math.sin(theta)*float(distance(point1, point2))\n",
    "    horizontal_offset = math.sin(math.acos(vertical_offset/elev_diff))*elev_diff\n",
    "    print (point1[0]-horizontal_offset, point1[1]-vertical_offset)\n",
    "    return (point1[0]-horizontal_offset, point1[1]-vertical_offset)\n",
    "\n",
    "def get_baseline_angle(anchor, other):\n",
    "    return math.atan((other[1]-anchor[1])/(other[0]-anchor[0]))"
   ]
  },
  {
   "cell_type": "code",
   "execution_count": null,
   "metadata": {
    "collapsed": true
   },
   "outputs": [],
   "source": []
  },
  {
   "cell_type": "code",
   "execution_count": 245,
   "metadata": {
    "collapsed": true
   },
   "outputs": [],
   "source": [
    "#if you want to save the elevation diffs in a .npy file so you don't have to query the elevation api every time use this\n",
    "#elev_diff_list = np.load(\"philly_elev_diffs.npy\")\n",
    "#elev_diff_list = [i*10 for i in elev_diff_list]"
   ]
  },
  {
   "cell_type": "code",
   "execution_count": null,
   "metadata": {
    "collapsed": true
   },
   "outputs": [],
   "source": []
  },
  {
   "cell_type": "code",
   "execution_count": 246,
   "metadata": {},
   "outputs": [
    {
     "name": "stdout",
     "output_type": "stream",
     "text": [
      "(-75.58239900035589, 40.12812650000013)\n",
      "(-75.5818690003559, 40.12858750000013)\n",
      "(-75.58186900034198, 40.1285874000001)\n",
      "(-75.58107400034199, 40.1292774000001)\n",
      "(-75.58107400020714, 40.12927760000005)\n",
      "(-75.58043500020713, 40.12971160000005)\n",
      "(-75.58848099103186, 40.14045969999478)\n",
      "(-75.58474199956558, 40.12023169999994)\n",
      "(-75.58091999982682, 40.13013669999998)\n",
      "(-75.58538100047613, 40.132701700000084)\n",
      "(-75.58195500047613, 40.133629700000085)\n",
      "(-75.58195500002594, 40.133630700000005)\n",
      "(-75.57862600002595, 40.13460370000001)\n",
      "(-75.57669500000164, 40.1292669)\n",
      "(-75.57167900000164, 40.1257399)\n",
      "(-75.58195500000764, 40.1336309)\n",
      "(-75.57862600001332, 40.1346039)\n",
      "(-75.58309400332112, 40.112457800001316)\n",
      "(-75.58058800022248, 40.12370550000005)\n",
      "(-75.58042600022247, 40.12481750000005)\n",
      "(-75.58019699983184, 40.12890939999996)\n",
      "(-75.58042599848194, 40.12481979999936)\n",
      "(-75.58511799955212, 40.13037459999983)\n",
      "(-75.57958299773718, 40.11368389999912)\n",
      "(-75.58516300070484, 40.12972250000017)\n",
      "(-75.58239900070484, 40.128125500000166)\n",
      "(-75.57242499994209, 40.1368615)\n",
      "(-75.5809200000621, 40.13013580000001)\n",
      "(-75.58346499962987, 40.13137249999986)\n",
      "(-75.58393299933894, 40.130885799999724)\n",
      "(-75.59822700059479, 40.11646370000008)\n",
      "(-75.5893590005948, 40.11714070000008)\n",
      "(-75.57958300047936, 40.11367960000008)\n",
      "(-75.58121500047936, 40.11742860000008)\n",
      "(-75.60219700373385, 40.119864500000816)\n",
      "(-75.58592100373384, 40.13032950000082)\n",
      "(-75.58465500044458, 40.130238800000086)\n",
      "(-75.58186900044458, 40.128586800000086)\n",
      "(-75.59131000531706, 40.13490520000244)\n",
      "(-75.58538100531706, 40.13269720000244)\n",
      "(-75.57587460016714, 40.13005070000002)\n",
      "(-75.57543400016714, 40.13294930000002)\n",
      "(-75.57543400590933, 40.132944600003235)\n",
      "(-75.57242500590932, 40.13685560000324)\n",
      "(-75.57242500121026, 40.13686000000074)\n",
      "(-75.57207400121027, 40.13760800000073)\n",
      "(-75.58240899978335, 40.131926499999956)\n",
      "(-75.58240900003739, 40.1319256)\n",
      "(-75.56428309971083, 40.13135019999998)\n",
      "(-75.57207399945541, 40.1376104999999)\n",
      "(-75.60172870610621, 40.10802360000188)\n",
      "(-75.58813800610622, 40.11656310000188)\n",
      "(-75.58772100074033, 40.11702220000015)\n",
      "(-75.58474200074033, 40.12022820000015)\n",
      "(-75.58474200080904, 40.12022930000047)\n",
      "(-75.58432900080903, 40.120672300000464)\n",
      "(-75.58432901017433, 40.12066600000739)\n",
      "(-75.58058801017434, 40.12369900000739)\n",
      "(-75.58058800004285, 40.1237055)\n",
      "(-75.57489930004284, 40.125007700000005)\n",
      "(-75.57450499998181, 40.124143499999995)\n"
     ]
    }
   ],
   "source": [
    "new_index = -1\n",
    "for index, name, geometry in zip(df.index.values, df[\"name\"],df[\"geometry\"]):\n",
    "    new_index +=1\n",
    "    coords = geometry.coords\n",
    "    coords_list = [i for i in coords]\n",
    "    intersection_list = [coords[0]]\n",
    "    index=0\n",
    "    for coord in coords[1:-1]:\n",
    "        index+=1\n",
    "        if(is_intersection(coord)):\n",
    "            #print \"true\"\n",
    "            intersection_list.append(index)\n",
    "    intersection_list.append(coords[-1])\n",
    "\n",
    "    prev_index = 0    \n",
    "    if(len(intersection_list) > 2):\n",
    "        pass\n",
    "        for i in intersection_list[1:-1]:\n",
    "            #print \"section from point \", coords[prev_index], \"to point\", coords[i], \":\",\n",
    "            point1 = coords[prev_index]\n",
    "            point2 = coords[i]\n",
    "            elev1 = get_elev(point1)\n",
    "            elev2 = get_elev(point2)\n",
    "            elev_diff=round((elev1-elev2)*.00001,7)\n",
    "            baseline_angle = 0\n",
    "            anchor_point = get_anchor_point(point1, point2, elev_diff)\n",
    "            \n",
    "            if(elev_diff > 0):\n",
    "                anchor_point = get_anchor_point(point2, point1, elev_diff)\n",
    "                point1, point2 = point2, point1\n",
    "            if(anchor_point != False):\n",
    "                baseline_angle = get_baseline_angle(anchor_point, point1)\n",
    "            else:\n",
    "                anchor_point = point1\n",
    "            seg_arr = coords_list[prev_index:i]\n",
    "            new_points = []\n",
    "            for point in seg_arr[1:]:\n",
    "                a = get_vector(point, anchor_point)\n",
    "                b = get_vector(point2, anchor_point)\n",
    "                c = dot(a, b)/dot(b, b)\n",
    "                p = (c*anchor_point[0], c*anchor_point[1])\n",
    "                new_points.append((anchor_point[0]+p[0], anchor_point[1]+p[1]))\n",
    "            new_points.insert(0,seg_arr[0])\n",
    "            seg_arr = new_points\n",
    "            if(anchor_point !=False):\n",
    "                seg_arr.append(anchor_point)\n",
    "            prev_index = i\n",
    "            \n",
    "            \n",
    "            \n",
    "    else:\n",
    "        #print \"section from point \", intersection_list[0], \"to point\", intersection_list[1], \":\",\n",
    "        elev_diff=round(get_elev_diff(intersection_list[0], intersection_list[1])*.00001,7)\n",
    "        seg_arr = coords_list  \n",
    "        anchor = get_anchor_point(intersection_list[0],intersection_list[1], elev_diff)\n",
    "        seg_arr.append(anchor) if anchor !=False else seg_arr.append((seg_arr[0][0],seg_arr[0][1]-elev_diff))\n",
    "        #if(elev_diff < 0):\n",
    "        #        seg_arr.append((seg_arr[0][0],seg_arr[0][1]-elev_diff))\n",
    "        #else:\n",
    "                #seg_arr.append((seg_arr[-1][0],seg_arr[-1][1]-elev_diff))\n",
    "        #print(elev_diff, seg_arr)\n",
    "        #print \"New seg_arr\", seg_arr\n",
    "    \n",
    "    if(len(seg_arr) > 2):\n",
    "        poly = Polygon(seg_arr)\n",
    "        line = LineString(seg_arr[:-1])\n",
    "        try:\n",
    "            streetnewdata.loc[new_index, \"geometry\"] = line\n",
    "            streetnewdata.loc[new_index, \"street name\"] = name\n",
    "            newdata.loc[new_index, \"geometry\"] = poly\n",
    "            newdata.loc[new_index, \"street name\"] = name\n",
    "        except:\n",
    "            continue"
   ]
  },
  {
   "cell_type": "code",
   "execution_count": 236,
   "metadata": {},
   "outputs": [
    {
     "data": {
      "text/plain": [
       "<matplotlib.axes._subplots.AxesSubplot at 0x11c7a1090>"
      ]
     },
     "execution_count": 236,
     "metadata": {},
     "output_type": "execute_result"
    },
    {
     "data": {
      "image/png": "[encoded data removed]",
      "text/plain": [
       "<Figure size 432x288 with 1 Axes>"
      ]
     },
     "metadata": {},
     "output_type": "display_data"
    },
    {
     "data": {
      "image/png": "[encoded data removed]",
      "text/plain": [
       "<Figure size 432x288 with 1 Axes>"
      ]
     },
     "metadata": {},
     "output_type": "display_data"
    },
    {
     "data": {
      "image/png": "[encoded data removed]",
      "text/plain": [
       "<Figure size 432x288 with 1 Axes>"
      ]
     },
     "metadata": {},
     "output_type": "display_data"
    }
   ],
   "source": [
    "streetnewdata.plot()\n",
    "newdata.plot()\n",
    "df.plot()"
   ]
  },
  {
   "cell_type": "code",
   "execution_count": null,
   "metadata": {},
   "outputs": [],
   "source": []
  },
  {
   "cell_type": "code",
   "execution_count": 196,
   "metadata": {},
   "outputs": [],
   "source": [
    "newdata.to_file(\"out_map.shp\")\n",
    "streetnewdata.to_file(\"out_street_map.shp\")\n"
   ]
  },
  {
   "cell_type": "code",
   "execution_count": null,
   "metadata": {
    "collapsed": true
   },
   "outputs": [],
   "source": []
  },
  {
   "cell_type": "code",
   "execution_count": null,
   "metadata": {
    "collapsed": true
   },
   "outputs": [],
   "source": []
  },
  {
   "cell_type": "code",
   "execution_count": null,
   "metadata": {
    "collapsed": true
   },
   "outputs": [],
   "source": []
  }
 ],
 "metadata": {
  "kernelspec": {
   "display_name": "Python 2",
   "language": "python",
   "name": "python2"
  },
  "language_info": {
   "codemirror_mode": {
    "name": "ipython",
    "version": 2
   },
   "file_extension": ".py",
   "mimetype": "text/x-python",
   "name": "python",
   "nbconvert_exporter": "python",
   "pygments_lexer": "ipython2",
   "version": "2.7.13"
  }
 },
 "nbformat": 4,
 "nbformat_minor": 2
}
