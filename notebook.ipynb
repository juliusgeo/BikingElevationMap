{
 "cells": [
  {
   "cell_type": "code",
   "execution_count": 184,
   "metadata": {
    "scrolled": true
   },
   "outputs": [],
   "source": [
    "import geopandas as gpd\n",
    "import requests\n",
    "import time\n",
    "import shapely\n",
    "import geopandas_osm.osm\n",
    "import numpy as np\n",
    "import descartes\n",
    "import math\n",
    "%matplotlib inline"
   ]
  },
  {
   "cell_type": "code",
   "execution_count": null,
   "metadata": {
    "collapsed": true
   },
   "outputs": [],
   "source": []
  },
  {
   "cell_type": "code",
   "execution_count": null,
   "metadata": {
    "collapsed": true
   },
   "outputs": [],
   "source": []
  },
  {
   "cell_type": "code",
   "execution_count": 185,
   "metadata": {},
   "outputs": [],
   "source": [
    "leftbound = -75.5898\n",
    "rightbound = -75.5740\n",
    "upperbound = 40.1391\n",
    "lowerbound = 40.1134\n",
    "bbox = [(leftbound,lowerbound ), (rightbound,lowerbound), (rightbound,upperbound), (leftbound,upperbound)]\n",
    "df = geopandas_osm.osm.query_osm('way', Polygon(bbox), recurse='down')\n"
   ]
  },
  {
   "cell_type": "code",
   "execution_count": 186,
   "metadata": {},
   "outputs": [
    {
     "data": {
      "text/plain": [
       "2     LINESTRING (-75.582399 40.128127, -75.581869 4...\n",
       "3     LINESTRING (-75.588481 40.140452, -75.588418 4...\n",
       "4     LINESTRING (-75.58474200000001 40.12023, -75.5...\n",
       "5     LINESTRING (-75.58092000000001 40.130136, -75....\n",
       "6     LINESTRING (-75.585381 40.132703, -75.585033 4...\n",
       "7     LINESTRING (-75.589359 40.117143, -75.58929500...\n",
       "8     LINESTRING (-75.5783229 40.1306533, -75.578250...\n",
       "9     LINESTRING (-75.58195499999999 40.133631, -75....\n",
       "10    LINESTRING (-75.578626 40.134604, -75.57861200...\n",
       "12    LINESTRING (-75.583094 40.112462, -75.58320500...\n",
       "13    LINESTRING (-75.58058800000001 40.123706, -75....\n",
       "14    LINESTRING (-75.580197 40.128909, -75.581074 4...\n",
       "15    LINESTRING (-75.580426 40.124818, -75.58059 40...\n",
       "17    LINESTRING (-75.58511799999999 40.130374, -75....\n",
       "18    LINESTRING (-75.579583 40.113681, -75.57960199...\n",
       "19    LINESTRING (-75.58516299999999 40.129724, -75....\n",
       "20    LINESTRING (-75.572425 40.136861, -75.573086 4...\n",
       "21    LINESTRING (-75.58092000000001 40.130136, -75....\n",
       "22    LINESTRING (-75.583465 40.131372, -75.583562 4...\n",
       "23    LINESTRING (-75.59822699999999 40.116466, -75....\n",
       "24    LINESTRING (-75.5783229 40.1306533, -75.578206...\n",
       "25    LINESTRING (-75.574237 40.107152, -75.57401900...\n",
       "26    LINESTRING (-75.588138 40.116573, -75.587881 4...\n",
       "27    LINESTRING (-75.587677 40.116204, -75.587462 4...\n",
       "28    LINESTRING (-75.577963 40.128564, -75.578132 4...\n",
       "29    LINESTRING (-75.602197 40.119873, -75.6022 40....\n",
       "30    LINESTRING (-75.584655 40.13024, -75.584373 40...\n",
       "31    LINESTRING (-75.57911900000001 40.126812, -75....\n",
       "32    LINESTRING (-75.59130999999999 40.134911, -75....\n",
       "33    LINESTRING (-75.57587460000001 40.1300514, -75...\n",
       "34    LINESTRING (-75.582409 40.131926, -75.58263100...\n",
       "35    LINESTRING (-75.582409 40.131926, -75.58162799...\n",
       "36    LINESTRING (-75.5642831 40.1313485, -75.564429...\n",
       "38    LINESTRING (-75.6017287 40.1080335, -75.601530...\n",
       "55    LINESTRING (-75.5748993 40.1250082, -75.574505...\n",
       "56    LINESTRING (-75.574505 40.1241432, -75.5744289...\n",
       "57    LINESTRING (-75.5745124 40.1237562, -75.574677...\n",
       "58    LINESTRING (-75.5745124 40.1237562, -75.574461...\n",
       "66    LINESTRING (-75.574505 40.1241432, -75.5746271...\n",
       "Name: geometry, dtype: object"
      ]
     },
     "execution_count": 186,
     "metadata": {},
     "output_type": "execute_result"
    }
   ],
   "source": [
    "arr=[\"highway\",\"residential\", \"primary\", \"secondary\",\"tertiary\",\"unclassified\", \"cycleway\"]\n",
    "df=df[df.highway.isin(arr)]\n",
    "df[\"geometry\"]\n"
   ]
  },
  {
   "cell_type": "code",
   "execution_count": null,
   "metadata": {
    "collapsed": true
   },
   "outputs": [],
   "source": []
  },
  {
   "cell_type": "code",
   "execution_count": 284,
   "metadata": {
    "collapsed": true
   },
   "outputs": [],
   "source": [
    "newdata = gpd.GeoDataFrame()\n",
    "newdata[\"street name\"]=None\n",
    "newdata[\"geometry\"]=None\n",
    "streetnewdata = gpd.GeoDataFrame()\n",
    "streetnewdata[\"street name\"]=None\n",
    "streetnewdata[\"geometry\"]=None"
   ]
  },
  {
   "cell_type": "code",
   "execution_count": 257,
   "metadata": {},
   "outputs": [],
   "source": [
    "elevations = dict()"
   ]
  },
  {
   "cell_type": "code",
   "execution_count": 256,
   "metadata": {},
   "outputs": [
    {
     "name": "stdout",
     "output_type": "stream",
     "text": [
      "{}\n"
     ]
    }
   ],
   "source": [
    "print elevations"
   ]
  },
  {
   "cell_type": "code",
   "execution_count": 189,
   "metadata": {
    "collapsed": true
   },
   "outputs": [],
   "source": [
    "all_coords_list = []\n",
    "for geometry in df[\"geometry\"]:\n",
    "    for coord in geometry.coords:\n",
    "        all_coords_list.append(coord)"
   ]
  },
  {
   "cell_type": "code",
   "execution_count": 274,
   "metadata": {},
   "outputs": [],
   "source": [
    "def is_intersection(val):\n",
    "    num_matches = 0\n",
    "    for i in all_coords_list:\n",
    "        if val == i:\n",
    "            num_matches +=1\n",
    "    \n",
    "    if(num_matches > 1):\n",
    "        return True\n",
    "    else:\n",
    "        return False\n",
    "\n",
    "def get_elev_diff(point1, point2):\n",
    "        return get_elev(point1)-get_elev(point2)\n",
    "def get_elev(point):\n",
    "    if(point in elevations):\n",
    "        return elevations[point]\n",
    "    else:\n",
    "        rqstring = \"https://maps.googleapis.com/maps/api/elevation/json?locations=\"+str(point[0])+\",\"+str(point[1])\n",
    "        elevation=requests.get(rqstring)\n",
    "        elev = elevation.json()[\"results\"][0][\"elevation\"]\n",
    "        elevations[point] = elev\n",
    "        time.sleep(.1)\n",
    "        return elev\n",
    "def distance(point1, point2):\n",
    "    return math.hypot(point2[0]-point1[0], point2[1]-point1[1])\n",
    "def dot(a, b):\n",
    "    return (a[0]*b[0])+(a[1]+b[1])\n",
    "def get_vector(point, origin):\n",
    "    return (point[0]-origin[0], point[1]-origin[1])\n",
    "def get_anchor_point(point1, point2, elev_diff):\n",
    "    if(elev_diff == 0):\n",
    "        return False\n",
    "    theta = math.atan(elev_diff/float(distance(point1, point2)))\n",
    "    vertical_offset = math.sin(theta)*float(distance(point1, point2))\n",
    "    horizontal_offset = math.sin(math.acos(vertical_offset/elev_diff))*elev_diff\n",
    "    return (point1[0]-horizontal_offset, point1[1]-vertical_offset)\n",
    "\n",
    "def get_baseline_angle(anchor, other):\n",
    "    return math.atan((other[1]-anchor[1])/(other[0]-anchor[0]))"
   ]
  },
  {
   "cell_type": "code",
   "execution_count": null,
   "metadata": {
    "collapsed": true
   },
   "outputs": [],
   "source": []
  },
  {
   "cell_type": "code",
   "execution_count": 275,
   "metadata": {
    "collapsed": true
   },
   "outputs": [],
   "source": [
    "#if you want to save the elevation diffs in a .npy file so you don't have to query the elevation api every time use this\n",
    "#elev_diff_list = np.load(\"philly_elev_diffs.npy\")\n",
    "#elev_diff_list = [i*10 for i in elev_diff_list]"
   ]
  },
  {
   "cell_type": "code",
   "execution_count": null,
   "metadata": {
    "collapsed": true
   },
   "outputs": [],
   "source": []
  },
  {
   "cell_type": "code",
   "execution_count": 311,
   "metadata": {},
   "outputs": [],
   "source": [
    "new_index = -1\n",
    "for index, name, geometry in zip(df.index.values, df[\"name\"],df[\"geometry\"]):\n",
    "    new_index +=1\n",
    "    coords = geometry.coords\n",
    "    coords_list = [i for i in coords]\n",
    "    intersection_list = [coords[0]]\n",
    "    index=0\n",
    "    for coord in coords[1:-1]:\n",
    "        index+=1\n",
    "        if(is_intersection(coord)):\n",
    "            #print \"true\"\n",
    "            intersection_list.append(index)\n",
    "    intersection_list.append(coords[-1])\n",
    "\n",
    "    prev_index = 0    \n",
    "    if(len(intersection_list) > 2):\n",
    "        for i in intersection_list[1:-1]:\n",
    "            #print \"section from point \", coords[prev_index], \"to point\", coords[i], \":\",\n",
    "            point1 = coords[prev_index]\n",
    "            point2 = coords[i]\n",
    "            elev1 = get_elev(point1)\n",
    "            elev2 = get_elev(point2)\n",
    "            elev_diff=round((elev1-elev2)*.00001,7)\n",
    "            baseline_angle = 0\n",
    "            anchor_point = get_anchor_point(point1, point2, elev_diff)\n",
    "            \n",
    "            if(elev_diff > 0):\n",
    "                anchor_point = get_anchor_point(point2, point1, elev_diff)\n",
    "                point1, point2 = point2, point1\n",
    "            if(anchor_point != False):\n",
    "                baseline_angle = get_baseline_angle(anchor_point, point1)\n",
    "            else:\n",
    "                anchor_point = point1\n",
    "            seg_arr = coords_list[prev_index:i]\n",
    "            new_points = []\n",
    "            for point in seg_arr[1:]:\n",
    "                a = get_vector(point, anchor_point)\n",
    "                b = get_vector(point2, anchor_point)\n",
    "                c = dot(a, b)/dot(b, b)\n",
    "                c = (c*b[0], c*b[1])\n",
    "                p = (anchor_point[0]+c[0], anchor_point[1]+c[1])\n",
    "                new_points.append(p)\n",
    "            new_points.insert(0,seg_arr[0])\n",
    "            seg_arr = new_points\n",
    "            if(anchor_point !=False):\n",
    "                seg_arr.append(anchor_point)\n",
    "            prev_index = i\n",
    "            \n",
    "            \n",
    "            \n",
    "    else:\n",
    "        #print \"section from point \", intersection_list[0], \"to point\", intersection_list[1], \":\",\n",
    "        elev_diff=round(get_elev_diff(intersection_list[0], intersection_list[1])*.00001,7)\n",
    "        seg_arr = coords_list  \n",
    "        anchor = get_anchor_point(intersection_list[0],intersection_list[1], elev_diff)\n",
    "        seg_arr.append(anchor) if anchor !=False else seg_arr.append((seg_arr[0][0],seg_arr[0][1]-elev_diff))\n",
    "        #if(elev_diff < 0):\n",
    "        #        seg_arr.append((seg_arr[0][0],seg_arr[0][1]-elev_diff))\n",
    "        #else:\n",
    "                #seg_arr.append((seg_arr[-1][0],seg_arr[-1][1]-elev_diff))\n",
    "        #print(elev_diff, seg_arr)\n",
    "        #print \"New seg_arr\", seg_arr\n",
    "    \n",
    "    if(len(seg_arr) > 2):\n",
    "        poly = Polygon(seg_arr)\n",
    "        line = LineString(seg_arr[:-1])\n",
    "        try:\n",
    "            streetnewdata.loc[new_index, \"geometry\"] = line\n",
    "            streetnewdata.loc[new_index, \"street name\"] = name\n",
    "            newdata.loc[new_index, \"geometry\"] = poly\n",
    "            newdata.loc[new_index, \"street name\"] = name\n",
    "        except:\n",
    "            continue"
   ]
  },
  {
   "cell_type": "code",
   "execution_count": 312,
   "metadata": {},
   "outputs": [
    {
     "data": {
      "text/plain": [
       "0     LINESTRING (-75.581074 40.129278, -75.58092890...\n",
       "1     LINESTRING (-75.588481 40.140452, -75.588418 4...\n",
       "2     LINESTRING (-75.58474200000001 40.12023, -75.5...\n",
       "3     LINESTRING (-75.58092000000001 40.130136, -75....\n",
       "4     LINESTRING (-75.58195499999999 40.133631, -75....\n",
       "5     LINESTRING (-75.589359 40.117143, -75.58929500...\n",
       "6     LINESTRING (-75.576695 40.129267, -75.57662285...\n",
       "7     LINESTRING (-75.58195499999999 40.133631, -75....\n",
       "8     LINESTRING (-75.578626 40.134604, -75.57861200...\n",
       "9     LINESTRING (-75.583094 40.112462, -75.58320500...\n",
       "10    LINESTRING (-75.577963 40.128564, -75.57716553...\n",
       "12    LINESTRING (-75.580426 40.124818, -75.58128194...\n",
       "13    LINESTRING (-75.58511799999999 40.130374, -75....\n",
       "14    LINESTRING (-75.579583 40.113681, -75.58147278...\n",
       "15    LINESTRING (-75.58516299999999 40.129724, -75....\n",
       "16    LINESTRING (-75.572425 40.136861, -75.573086 4...\n",
       "17    LINESTRING (-75.58092000000001 40.130136, -75....\n",
       "18    LINESTRING (-75.583933 40.130885, -75.58452203...\n",
       "19    LINESTRING (-75.59822699999999 40.116466, -75....\n",
       "20    LINESTRING (-75.5783229 40.1306533, -75.577101...\n",
       "21    LINESTRING (-75.579583 40.113681, -75.57966031...\n",
       "22    LINESTRING (-75.588138 40.116573, -75.58783377...\n",
       "23    LINESTRING (-75.587677 40.116204, -75.587462 4...\n",
       "24    LINESTRING (-75.577963 40.128564, -75.578132 4...\n",
       "25    LINESTRING (-75.602197 40.119873, -75.60217252...\n",
       "26    LINESTRING (-75.584655 40.13024, -75.584502184...\n",
       "27    LINESTRING (-75.57911900000001 40.126812, -75....\n",
       "28    LINESTRING (-75.59130999999999 40.134911, -75....\n",
       "29    LINESTRING (-75.572425 40.136861, -75.57237073...\n",
       "30    LINESTRING (-75.582409 40.131926, -75.58306722...\n",
       "31    LINESTRING (-75.582409 40.131926, -75.58162799...\n",
       "32    LINESTRING (-75.572074 40.137609, -75.57408271...\n",
       "35    LINESTRING (-75.57442899999999 40.1241608, -75...\n",
       "36    LINESTRING (-75.5745124 40.1237562, -75.574677...\n",
       "37    LINESTRING (-75.5745124 40.1237562, -75.574460...\n",
       "38    LINESTRING (-75.574505 40.1241432, -75.5746271...\n",
       "Name: geometry, dtype: object"
      ]
     },
     "execution_count": 312,
     "metadata": {},
     "output_type": "execute_result"
    }
   ],
   "source": [
    "streetnewdata[\"geometry\"]\n",
    "\n"
   ]
  },
  {
   "cell_type": "code",
   "execution_count": 313,
   "metadata": {},
   "outputs": [
    {
     "data": {
      "text/plain": [
       "<matplotlib.axes._subplots.AxesSubplot at 0x11bd8c550>"
      ]
     },
     "execution_count": 313,
     "metadata": {},
     "output_type": "execute_result"
    },
    {
     "data": {
      "image/png": "[encoded data removed]",
      "text/plain": [
       "<Figure size 432x288 with 1 Axes>"
      ]
     },
     "metadata": {},
     "output_type": "display_data"
    },
    {
     "data": {
      "image/png": "[encoded data removed]",
      "text/plain": [
       "<Figure size 432x288 with 1 Axes>"
      ]
     },
     "metadata": {},
     "output_type": "display_data"
    },
    {
     "data": {
      "image/png": "[encoded data removed]",
      "text/plain": [
       "<Figure size 432x288 with 1 Axes>"
      ]
     },
     "metadata": {},
     "output_type": "display_data"
    }
   ],
   "source": [
    "streetnewdata.plot()\n",
    "newdata.plot()\n",
    "df.plot()"
   ]
  },
  {
   "cell_type": "code",
   "execution_count": null,
   "metadata": {},
   "outputs": [],
   "source": []
  },
  {
   "cell_type": "code",
   "execution_count": 196,
   "metadata": {},
   "outputs": [],
   "source": [
    "newdata.to_file(\"out_map.shp\")\n",
    "streetnewdata.to_file(\"out_street_map.shp\")\n"
   ]
  },
  {
   "cell_type": "code",
   "execution_count": null,
   "metadata": {
    "collapsed": true
   },
   "outputs": [],
   "source": []
  },
  {
   "cell_type": "code",
   "execution_count": null,
   "metadata": {
    "collapsed": true
   },
   "outputs": [],
   "source": []
  },
  {
   "cell_type": "code",
   "execution_count": null,
   "metadata": {
    "collapsed": true
   },
   "outputs": [],
   "source": []
  }
 ],
 "metadata": {
  "kernelspec": {
   "display_name": "Python 2",
   "language": "python",
   "name": "python2"
  },
  "language_info": {
   "codemirror_mode": {
    "name": "ipython",
    "version": 2
   },
   "file_extension": ".py",
   "mimetype": "text/x-python",
   "name": "python",
   "nbconvert_exporter": "python",
   "pygments_lexer": "ipython2",
   "version": "2.7.13"
  }
 },
 "nbformat": 4,
 "nbformat_minor": 2
}
