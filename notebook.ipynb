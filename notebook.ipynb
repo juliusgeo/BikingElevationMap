{
 "cells": [
  {
   "cell_type": "code",
   "execution_count": 81,
   "metadata": {
    "scrolled": true
   },
   "outputs": [],
   "source": [
    "import geopandas as gpd\n",
    "import requests\n",
    "import time\n",
    "import shapely\n",
    "import geopandas_osm.osm\n",
    "import numpy as np\n",
    "import descartes as d\n",
    "import math\n",
    "import fiona\n",
    "%matplotlib inline"
   ]
  },
  {
   "cell_type": "code",
   "execution_count": null,
   "metadata": {},
   "outputs": [],
   "source": []
  },
  {
   "cell_type": "code",
   "execution_count": null,
   "metadata": {},
   "outputs": [],
   "source": []
  },
  {
   "cell_type": "code",
   "execution_count": 90,
   "metadata": {},
   "outputs": [
    {
     "data": {
      "text/plain": [
       "<matplotlib.axes._subplots.AxesSubplot at 0x121672050>"
      ]
     },
     "execution_count": 90,
     "metadata": {},
     "output_type": "execute_result"
    },
    {
     "data": {
      "image/png": "[encoded data removed]",
      "text/plain": [
       "<Figure size 432x288 with 1 Axes>"
      ]
     },
     "metadata": {
      "needs_background": "light"
     },
     "output_type": "display_data"
    }
   ],
   "source": [
    "leftbound = -76.4092\n",
    "rightbound = -76.3891\n",
    "upperbound = -9.8721\n",
    "lowerbound = -9.9083\n",
    "bbox = [(leftbound,lowerbound ), (rightbound,lowerbound), (rightbound,upperbound), (leftbound,upperbound)]\n",
    "poly = shapely.geometry.Polygon(bbox)\n",
    "df = geopandas_osm.osm.query_osm('way', poly, recurse='down')\n",
    "df.to_file(\"orig_map.shp\")\n",
    "df.plot()"
   ]
  },
  {
   "cell_type": "code",
   "execution_count": 83,
   "metadata": {},
   "outputs": [
    {
     "data": {
      "text/plain": [
       "1     LINESTRING (-76.39094420000001 -9.9047614, -76...\n",
       "2     LINESTRING (-76.38848729999999 -9.9059428, -76...\n",
       "4     LINESTRING (-76.3918973 -9.904230999999999, -7...\n",
       "5     LINESTRING (-76.3925308 -9.9041563, -76.392542...\n",
       "6     LINESTRING (-76.3872681 -9.881247500000001, -7...\n",
       "11    LINESTRING (-76.4091981 -9.865792900000001, -7...\n",
       "12    LINESTRING (-76.40560600000001 -9.8727365, -76...\n",
       "Name: geometry, dtype: object"
      ]
     },
     "execution_count": 83,
     "metadata": {},
     "output_type": "execute_result"
    }
   ],
   "source": [
    "arr=[\"highway\",\"residential\", \"primary\", \"secondary\",\"tertiary\",\"unclassified\", \"cycleway\"]\n",
    "df=df[df.highway.isin(arr)]\n",
    "df[\"geometry\"]\n"
   ]
  },
  {
   "cell_type": "code",
   "execution_count": null,
   "metadata": {},
   "outputs": [],
   "source": []
  },
  {
   "cell_type": "code",
   "execution_count": 102,
   "metadata": {},
   "outputs": [],
   "source": [
    "newdata = gpd.GeoDataFrame()\n",
    "newdata[\"street name\"]=None\n",
    "newdata[\"geometry\"]=None\n",
    "streetnewdata = gpd.GeoDataFrame()\n",
    "streetnewdata[\"street name\"]=None\n",
    "streetnewdata[\"geometry\"]=None\n",
    "elev_point_data = gpd.GeoDataFrame()\n",
    "elev_point_data[\"elevation\"]=None\n",
    "elev_point_data[\"geometry\"]=None\n",
    "junctions = gpd.GeoDataFrame()\n",
    "junctions[\"geometry\"]=None"
   ]
  },
  {
   "cell_type": "code",
   "execution_count": 5,
   "metadata": {},
   "outputs": [],
   "source": [
    "elevations = dict()"
   ]
  },
  {
   "cell_type": "code",
   "execution_count": 6,
   "metadata": {},
   "outputs": [
    {
     "name": "stdout",
     "output_type": "stream",
     "text": [
      "{}\n"
     ]
    }
   ],
   "source": [
    "print elevations"
   ]
  },
  {
   "cell_type": "code",
   "execution_count": 37,
   "metadata": {},
   "outputs": [],
   "source": [
    "all_coords_list = []\n",
    "for geometry in df[\"geometry\"]:\n",
    "    for coord in geometry.coords:\n",
    "        all_coords_list.append(coord)"
   ]
  },
  {
   "cell_type": "code",
   "execution_count": 85,
   "metadata": {},
   "outputs": [],
   "source": [
    "def is_intersection(val):\n",
    "    num_matches = 0\n",
    "    for i in all_coords_list:\n",
    "        if val == i:\n",
    "            num_matches +=1\n",
    "    \n",
    "    if(num_matches > 1):\n",
    "        return True\n",
    "    else:\n",
    "        return False\n",
    "def is_bend(coord, a, b):\n",
    "    a = get_vector(a, coord)\n",
    "    b = get_vector(b, coord)\n",
    "    anorm = math.sqrt(dot(a, a))\n",
    "    bnorm = math.sqrt(dot(b, b))\n",
    "    theta = math.acos(dot(a, b)/(anorm*bnorm))\n",
    "    if(theta > 1.57):\n",
    "        return False\n",
    "    else:\n",
    "        return True\n",
    "def get_elev_diff(point1, point2):\n",
    "        return get_elev(point1)-get_elev(point2)\n",
    "def get_elev(point):\n",
    "    if(point in elevations):\n",
    "        return elevations[point]\n",
    "    else:\n",
    "        rqstring = \"https://maps.googleapis.com/maps/api/elevation/json?locations=\"+str(point[0])+\",\"+str(point[1])\n",
    "        elevation=requests.get(rqstring)\n",
    "        try:\n",
    "            elev = elevation.json()[\"results\"][0][\"elevation\"]\n",
    "            elevations[point] = elev\n",
    "            time.sleep(.1)\n",
    "            return elev\n",
    "        except:\n",
    "            print elevation.json()\n",
    "            time.sleep(.1)\n",
    "            return 0\n",
    "        \n",
    "def distance(point1, point2):\n",
    "    return math.hypot(point2[0]-point1[0], point2[1]-point1[1])\n",
    "def dot(a, b):\n",
    "    return float((a[0]*b[0])+(a[1]*b[1]))\n",
    "def get_vector(point, origin):\n",
    "    return (point[0]-origin[0], point[1]-origin[1])\n",
    "def get_anchor_point(point1, point2, elev_diff):\n",
    "    xv = get_vector(point1, point2)[0]\n",
    "    yv = get_vector(point1, point2)[1]\n",
    "    anchor = (-yv, xv)\n",
    "    anchor = [i*elev_diff/distance(point1, point2) for i in anchor] \n",
    "    return (point1[0]+anchor[0], point1[1]+anchor[1])\n",
    "def reproject_segment(seg, anchor, end, elev_diff):\n",
    "    #print \"Beginning points: \",anchor, seg, end\n",
    "    new_points = []\n",
    "    distance_arr = []\n",
    "    for point in seg:\n",
    "        a = get_vector(point, anchor)\n",
    "        b = get_vector(end, anchor)\n",
    "        project_point = point\n",
    "        try:\n",
    "            c = dot(a, b)/dot(b,b)\n",
    "        except:\n",
    "            continue\n",
    "        c = [c*i for i in b]\n",
    "        p = (anchor[0]+c[0], anchor[1]+c[1])\n",
    "        distance_arr.append(distance(p, anchor))\n",
    "        cur_point_elev = get_elev(point)\n",
    "        cur_point_elev_diff = round((cur_point_elev-max(elev1, elev2))*.001,7)\n",
    "        p = get_anchor_point(p,end, cur_point_elev_diff)\n",
    "        elev_point_data.loc[elev_point_data.shape[0]] = [cur_point_elev-max(elev1, elev2), shapely.geometry.point.Point(p)]\n",
    "        new_points.append(p)\n",
    "    \n",
    "    zipped = zip(new_points, distance_arr)\n",
    "    sorted_zip = sorted(zipped, key=lambda pair: pair[1])\n",
    "    new_points = [a[0] for a in sorted_zip]\n",
    "    new_points.insert(0, anchor)\n",
    "    new_points.append(end)\n",
    "    \n",
    "    #print \"Projected points: \", new_points\n",
    "    return new_points"
   ]
  },
  {
   "cell_type": "code",
   "execution_count": null,
   "metadata": {
    "scrolled": false
   },
   "outputs": [],
   "source": []
  },
  {
   "cell_type": "code",
   "execution_count": null,
   "metadata": {},
   "outputs": [],
   "source": []
  },
  {
   "cell_type": "code",
   "execution_count": null,
   "metadata": {},
   "outputs": [],
   "source": []
  },
  {
   "cell_type": "code",
   "execution_count": 106,
   "metadata": {},
   "outputs": [
    {
     "name": "stdout",
     "output_type": "stream",
     "text": [
      "Length of intersection list: 2\n",
      "Length of intersection list: 3\n",
      "Length of intersection list: 3\n",
      "Length of intersection list: 2\n",
      "Length of intersection list: 2\n",
      "Length of intersection list: 2\n",
      "Length of intersection list: 2\n",
      "Length of intersection list: 2\n",
      "Length of intersection list: 2\n",
      "Length of intersection list: 2\n",
      "Length of intersection list: 2\n",
      "Length of intersection list: 2\n",
      "Length of intersection list: 2\n",
      "Length of intersection list: 2\n",
      "Length of intersection list: 2\n"
     ]
    }
   ],
   "source": [
    "new_index = -1\n",
    "for index, geometry, name in zip(df.index.values, df[\"geometry\"], df[\"name\"]):\n",
    "    new_index +=1\n",
    "    coords = geometry.coords\n",
    "    coords_list = [i for i in coords]\n",
    "    intersection_list = [0]\n",
    "    index=1\n",
    "    for coord in coords[1:-1]:\n",
    "        if(is_intersection(coord)):\n",
    "            intersection_list.append(index)\n",
    "        #elif(is_bend(coord, coords[0], coords[-1])):\n",
    "        #    intersection_list.append(index)\n",
    "        index+=1\n",
    "    intersection_list.append(int(len(coords)-1))\n",
    "\n",
    "    print \"Length of intersection list:\", len(intersection_list)\n",
    "    if(len(intersection_list) >= 2):\n",
    "        if(len(intersection_list) == 2):\n",
    "            point1 = coords_list[intersection_list[0]]\n",
    "            point2 = coords_list[intersection_list[1]]\n",
    "            elev1 = get_elev(point1)\n",
    "            elev2 = get_elev(point2)\n",
    "            elev_diff=round((elev1-elev2)*.001,7)\n",
    "            seg_arr = reproject_segment(coords_list[1:-2], point1, point2, elev_diff)\n",
    "        else:\n",
    "            prev_index = 0    \n",
    "            for i in intersection_list[1:-1]:\n",
    "                #print \"section from point \", coords[prev_index], \"to point\", coords[i], \":\",\n",
    "                point1 = coords_list[prev_index]\n",
    "                point2 = coords_list[i]\n",
    "                elev1 = get_elev(point1)\n",
    "                elev2 = get_elev(point2)\n",
    "                elev_diff=round((elev1-elev2)*.0001,7)\n",
    "                seg_arr = reproject_segment(coords_list[prev_index+1:i-1], point1, point2, elev_diff)\n",
    "                prev_index = i\n",
    "\n",
    "    else:\n",
    "        elev_diff=round(get_elev_diff(coords[0], coords[1])*.001,7)\n",
    "        seg_arr = coords_list  \n",
    "        anchor = get_anchor_point(coords[0],coords[1], elev_diff)\n",
    "        seg_arr.append(anchor)\n",
    "\n",
    "    if(len(seg_arr) > 2):\n",
    "        poly = shapely.geometry.Polygon(seg_arr[:][:])\n",
    "        line = shapely.geometry.LineString(seg_arr[1:])\n",
    "        try:\n",
    "            newdata.loc[newdata.shape[0]] = [name, poly]\n",
    "            streetnewdata.loc[streetnewdata.shape[0]] = [name, line]\n",
    "            junctions.loc[junctions.shape[0]] = [shapely.geometry.point.Point(seg_arr[0])]\n",
    "            junctions.loc[junctions.shape[0]] = [shapely.geometry.point.Point(seg_arr[-1])]\n",
    "        except:\n",
    "            continue"
   ]
  },
  {
   "cell_type": "code",
   "execution_count": null,
   "metadata": {},
   "outputs": [],
   "source": []
  },
  {
   "cell_type": "code",
   "execution_count": 93,
   "metadata": {},
   "outputs": [
    {
     "data": {
      "image/png": "[encoded data removed]",
      "text/plain": [
       "<Figure size 432x288 with 1 Axes>"
      ]
     },
     "metadata": {
      "needs_background": "light"
     },
     "output_type": "display_data"
    }
   ],
   "source": [
    "base = streetnewdata.plot(color='white', edgecolor='black')\n",
    "newdata.plot(ax=base, color='green');\n",
    "df.plot(ax=base, color=\"orange\")\n",
    "for elev, point in zip(elev_point_data[\"elevation\"][::50], elev_point_data[\"geometry\"][::50]):\n",
    "    base.annotate(str(round(elev*1000)), (point.x, point.y))"
   ]
  },
  {
   "cell_type": "code",
   "execution_count": null,
   "metadata": {},
   "outputs": [],
   "source": []
  },
  {
   "cell_type": "code",
   "execution_count": 112,
   "metadata": {},
   "outputs": [],
   "source": [
    "import os\n",
    "os.remove(\"out_map.geojson\")\n",
    "os.remove(\"out_street_map.geojson\")\n",
    "os.remove(\"out_elev_map.geojson\")\n",
    "os.remove(\"junctions.geojson\")\n",
    "newdata.to_file(\"out_map.geojson\", driver=\"GeoJSON\")\n",
    "streetnewdata.to_file(\"out_street_map.geojson\", driver=\"GeoJSON\")\n",
    "elev_point_data.to_file(\"out_elev_map.geojson\", driver=\"GeoJSON\")\n",
    "junctions.to_file(\"junctions.geojson\", driver=\"GeoJSON\")"
   ]
  },
  {
   "cell_type": "code",
   "execution_count": null,
   "metadata": {
    "collapsed": true
   },
   "outputs": [],
   "source": []
  },
  {
   "cell_type": "code",
   "execution_count": null,
   "metadata": {
    "collapsed": true
   },
   "outputs": [],
   "source": []
  },
  {
   "cell_type": "code",
   "execution_count": null,
   "metadata": {
    "collapsed": true
   },
   "outputs": [],
   "source": []
  }
 ],
 "metadata": {
  "kernelspec": {
   "display_name": "Python 2",
   "language": "python",
   "name": "python2"
  },
  "language_info": {
   "codemirror_mode": {
    "name": "ipython",
    "version": 2
   },
   "file_extension": ".py",
   "mimetype": "text/x-python",
   "name": "python",
   "nbconvert_exporter": "python",
   "pygments_lexer": "ipython2",
   "version": "2.7.10"
  }
 },
 "nbformat": 4,
 "nbformat_minor": 2
}
